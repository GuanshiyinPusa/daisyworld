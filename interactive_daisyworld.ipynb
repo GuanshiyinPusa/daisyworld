{
 "cells": [
  {
   "cell_type": "markdown",
   "metadata": {},
   "source": [
    "# Interactive Daisyworld\n",
    "Interactive daisyworld is a python implementation of the famous [daisyworld computer simulation](https://en.wikipedia.org/wiki/Daisyworld). It describes a hypothetical world orbiting a star, whose radiant energy slowly increases over time. The world has two types of daisies (black and white) as it's only life form. The population of daisies can modify the worlds albedo and thereby migitage the effects arising from the increasing radiant energy of the star. The concept was first described by [Watson and Lovelock (1983)](https://doi.org/10.1111%2Fj.1600-0889.1983.tb00031.x) [1]\n",
    "\n",
    "[1] Watson, A.J.; J.E. Lovelock (1983). \"Biological homeostasis of the global environment: the parable of Daisyworld\". Tellus B. 35 (4): 286–9.\n"
   ]
  },
  {
   "cell_type": "code",
   "execution_count": 79,
   "metadata": {},
   "outputs": [],
   "source": [
    "# -----------------\n",
    "# import libraries\n",
    "# -----------------\n",
    "\n",
    "# standard libraries\n",
    "# -----\n",
    "\n",
    "import numpy as np\n",
    "import matplotlib.pyplot as plt\n",
    "import seaborn as sns\n",
    "%matplotlib inline\n",
    "import time\n",
    "from io import BytesIO"
   ]
  },
  {
   "cell_type": "code",
   "execution_count": 139,
   "metadata": {},
   "outputs": [],
   "source": [
    "# helper functions\n",
    "# -----\n",
    "\n",
    "def plot_world_trajectory(tmax, dt, daisydict, X, planet_temp):\n",
    "    palette = sns.color_palette(\"Blues\",10)\n",
    "    tr = np.arange(0, tmax+dt, dt)\n",
    "    #print(tr.shape)\n",
    "    plt.subplot(2, 1, 1)\n",
    "    for i, daisyname in enumerate(daisydict):\n",
    "        plt.plot(tr, daisydict[daisyname], '-', color=palette[i+3+i*3], label=daisyname)\n",
    "    plt.plot(tr, X, 'g--', label='fertile')\n",
    "    plt.title('Daisyworld Output')\n",
    "    plt.ylabel('% of area\\ncovered with daisies')\n",
    "    plt.legend()\n",
    "\n",
    "\n",
    "    plt.subplot(2, 1, 2)\n",
    "    plt.plot(tr, planet_temp, 'r-')\n",
    "    plt.xlabel('time(yr)')\n",
    "    plt.ylabel('temperature\\nof the planet')\n",
    "    \n",
    "    #plt.legend()\n",
    "    plt.show()\n",
    "\n"
   ]
  },
  {
   "cell_type": "code",
   "execution_count": 140,
   "metadata": {},
   "outputs": [],
   "source": [
    "# constants\n",
    "# -----\n",
    "\n",
    "SOLCONST = 917.0      # J/(m^2*s)\n",
    "STEFBOLTZ = 5.67e-8   # J/(m^2*s*degK^4)"
   ]
  },
  {
   "cell_type": "code",
   "execution_count": 141,
   "metadata": {},
   "outputs": [],
   "source": [
    "# -----------------\n",
    "# world classes\n",
    "# -----------------\n",
    "\n",
    "# this is your basic class for your daisyworld\n",
    "class World(object):\n",
    "    def __init__(self, name, fert=1.0, gralbedo=0.5, luminosity=0.5, lumacc=0.02, solconst=SOLCONST):\n",
    "        self.name = name\n",
    "        self.fert = fert\n",
    "        self.gralbedo = gralbedo\n",
    "        self.luminosity = luminosity\n",
    "        self.lumacc = lumacc\n",
    "        self.solconst = solconst\n",
    "        \n",
    "        self.time = 0.\n",
    "        self.daisies = []\n",
    "    \n",
    "    def add_daisy(self, Daisy):\n",
    "        self.daisies.append(Daisy)        \n",
    "        area = 0\n",
    "        for daisy in self.daisies:\n",
    "            area += daisy.area\n",
    "        if area > self.fert:\n",
    "            self.daisies.pop()\n",
    "            raise ValueError(\"daisies cannot occupy more than 100% of fertile area\")\n",
    "        else:\n",
    "            pass\n",
    "    \n",
    "    def reset(self):\n",
    "        self.time = [self.time[0]]\n",
    "        self.luminosity = [self.luminosity[0]]\n",
    "        for daisy in self.daisies:\n",
    "            daisy.reset()\n",
    "        pass\n",
    "        \n",
    "    def plot(self):\n",
    "        pass\n",
    "    \n",
    "    def simulate_timestep(self, dt=0.2):\n",
    "        self.X = self.fert\n",
    "        for daisy in self.daisies:\n",
    "            self.X -= daisy.area\n",
    "        \n",
    "        # planetary temperature\n",
    "        # -----\n",
    "        \n",
    "        alb_planet = 0.\n",
    "        remaining_frac = 1.\n",
    "        for daisy in self.daisies:\n",
    "            alb_planet += daisy.area * daisy.albedo\n",
    "            remaining_frac -= daisy.area\n",
    "        alb_planet += remaining_frac * self.gralbedo\n",
    "        \n",
    "        \n",
    "        #self.luminosity = np.sin(np.pi/75 * self.time - np.pi) * 0.4 + 1.25    \n",
    "        self.luminosity += self.lumacc * dt                 # unitless\n",
    "        solflux = self.solconst * self.luminosity           # J/(m^2*s)\n",
    "        q = (0.2 * solflux) / STEFBOLTZ                     # unitless\n",
    "        \n",
    "        self.planet_temp = (((solflux * (1 - alb_planet)) / STEFBOLTZ)**0.25) - 273.15\n",
    "        \n",
    "        # daisy temperature and growth\n",
    "        # -----\n",
    "        \n",
    "        for daisy in self.daisies:\n",
    "            daisy.temperature = (((q * (alb_planet - daisy.albedo)) + ((self.planet_temp + 273.16)**4))**(0.25)) - 273.16\n",
    "            \n",
    "            if (daisy.temperature > daisy.UT or daisy.temperature < daisy.LT):\n",
    "                beta = 0.0\n",
    "            else:\n",
    "                beta = (1.0 - 0.003265 * ((((daisy.UT-daisy.LT)/2. + daisy.LT) - daisy.temperature)**2))\n",
    "                \n",
    "            dgrowth = daisy.area * self.X * beta\n",
    "            \n",
    "            if (daisy.area > daisy.seeds):\n",
    "                ddeath = daisy.area * daisy.death_rate\n",
    "            else:\n",
    "                ddeath = 0.\n",
    "            \n",
    "            if (daisy.mutation > 0):\n",
    "                daisy.mutate()\n",
    "            \n",
    "            \n",
    "            # Quantity in each reservoir = quantity at previous timestep + (inflows - outflows) * dt    \n",
    "            daisy.area += (dgrowth - ddeath) * dt\n",
    "            \n",
    "        self.time += dt\n",
    "        \n",
    "        return self.time, self.X, self.planet_temp, solflux\n",
    "    \n",
    "    \n",
    "\n",
    "class Daisy(object):\n",
    "    def __init__(self, name, albedo=0.5, area=0.001, death_rate=0.3, LT=5.0, UT=40.0, seeds=0.001, mutation=0):\n",
    "        self.name = name\n",
    "        self.albedo = albedo\n",
    "        self.death_rate = death_rate\n",
    "        self.UT = UT\n",
    "        self.LT = LT\n",
    "        self.seeds = seeds\n",
    "        self.mutation = mutation\n",
    "        \n",
    "        self.temperature = 0.0\n",
    "        self.area = area\n",
    "\n",
    "    \n",
    "    def __str__(self):\n",
    "        return 'Daisy Object, name:{}'.format(self.name)\n",
    "    \n",
    "    def reset():\n",
    "        self.temperature = [self.temperature[0]]\n",
    "        self.beta = [self.beta[0]]\n",
    "        self.area = [self.area[0]]         \n",
    "    \n",
    "    def mutate(self, rate=1.00):\n",
    "        self.albedo = self.albedo if np.random.random() < self.mutation else self.albedo + self.albedo * rate * self.area * (np.random.random()*2 - 1)\n",
    "        self.albedo = np.clip(self.albedo, 0., 1.)\n",
    "        \n",
    "        self.death_rate = self.death_rate if np.random.random() < self.mutation else self.death_rate + self.death_rate * rate * self.area * (np.random.random()*2 - 1)\n",
    "        self.death_rate = np.clip(self.death_rate, 0., 1.)\n",
    "\n",
    "        self.UT = self.UT if np.random.random() < self.mutation else self.UT + self.UT * rate * self.area * (np.random.random()*2 - 1)\n",
    "        self.UT = np.clip(self.UT, -273.15, None)\n",
    "\n",
    "        self.LT = self.LT if np.random.random() < self.mutation else self.LT + self.LT * rate * self.area * (np.random.random()*2 - 1)\n",
    "        self.LT = np.clip(self.LT, -273.15, self.UT)"
   ]
  },
  {
   "cell_type": "code",
   "execution_count": 142,
   "metadata": {},
   "outputs": [],
   "source": [
    "# world building\n",
    "# -----\n",
    "\n",
    "def build_basicworld(fertility=1.0, ltemp=5., utemp=40., walb=0.75, balb=0.25):\n",
    "    \n",
    "    daisyworld = World('daisyworld', fert=fertility)\n",
    "    white_daisy = Daisy('white', albedo=walb, LT=ltemp, UT=utemp)\n",
    "    black_daisy = Daisy('black', albedo=balb, LT=ltemp, UT=utemp)\n",
    "    daisyworld.add_daisy(white_daisy)\n",
    "    daisyworld.add_daisy(black_daisy)\n",
    "    \n",
    "    return daisyworld"
   ]
  },
  {
   "cell_type": "code",
   "execution_count": 143,
   "metadata": {},
   "outputs": [],
   "source": [
    "# simulation loop\n",
    "# -----\n",
    "\n",
    "def simulate(daisyworld, dt=0.2, tmax=100.):\n",
    "    imax = int((tmax + dt) / dt)\n",
    "\n",
    "    planet_temp = np.zeros(imax)\n",
    "    fertile_area = np.zeros(imax)\n",
    "    daisydict = {}\n",
    "    for daisy in daisyworld.daisies:\n",
    "        daisydict[daisy.name] = np.zeros(imax)\n",
    "\n",
    "    for i in range(imax):\n",
    "        _, _, _, _ = daisyworld.simulate_timestep(dt)\n",
    "        fertile_area[i], planet_temp[i] = daisyworld.X, daisyworld.planet_temp\n",
    "        for daisy in daisyworld.daisies:\n",
    "            daisydict[daisy.name][i] = daisy.area\n",
    "    \n",
    "    plot_world_trajectory(tmax, dt, daisydict, fertile_area, planet_temp)"
   ]
  },
  {
   "cell_type": "code",
   "execution_count": 144,
   "metadata": {},
   "outputs": [],
   "source": [
    "def build_and_run(fertility=1.0, ltemp=5., utemp=40., walb=0.75, balb=0.25):\n",
    "    dw = build_basicworld(fertility, ltemp, utemp, walb, balb)\n",
    "    plot = simulate(dw)"
   ]
  },
  {
   "cell_type": "code",
   "execution_count": 145,
   "metadata": {},
   "outputs": [
    {
     "data": {
      "image/png": "[encoded data removed]",
      "text/plain": [
       "<Figure size 432x288 with 2 Axes>"
      ]
     },
     "metadata": {
      "needs_background": "light"
     },
     "output_type": "display_data"
    }
   ],
   "source": [
    "build_and_run()"
   ]
  },
  {
   "cell_type": "markdown",
   "metadata": {},
   "source": [
    "## Interactive Part"
   ]
  },
  {
   "cell_type": "code",
   "execution_count": 146,
   "metadata": {},
   "outputs": [],
   "source": [
    "# import libraries for interactive widgets\n",
    "from ipywidgets import interact, interactive, fixed, interact_manual\n",
    "import ipywidgets as widgets\n",
    "from IPython.display import display"
   ]
  },
  {
   "cell_type": "markdown",
   "metadata": {},
   "source": [
    "Play around with the sliders to see how fertility, temperature and albedo influence the world model."
   ]
  },
  {
   "cell_type": "code",
   "execution_count": 147,
   "metadata": {},
   "outputs": [
    {
     "data": {
      "application/vnd.jupyter.widget-view+json": {
       "model_id": "b5672b9787a74d40891030a0599a2be0",
       "version_major": 2,
       "version_minor": 0
      },
      "text/plain": [
       "interactive(children=(FloatSlider(value=1.0, description='fertility', max=1.5), IntSlider(value=5, description…"
      ]
     },
     "metadata": {},
     "output_type": "display_data"
    }
   ],
   "source": [
    "interactive_plot = interactive(build_and_run, fertility=(0, 1.5, .10), ltemp=(0, 100, 5), utemp=(0, 100, 5), walb=(0., 1., 0.05), balb=(0.,1.,0.05))\n",
    "output = interactive_plot.children[-1]\n",
    "output.layout.height = '350px'\n",
    "interactive_plot"
   ]
  },
  {
   "cell_type": "code",
   "execution_count": null,
   "metadata": {},
   "outputs": [],
   "source": []
  }
 ],
 "metadata": {
  "kernelspec": {
   "display_name": "Python 3",
   "language": "python",
   "name": "python3"
  },
  "language_info": {
   "codemirror_mode": {
    "name": "ipython",
    "version": 3
   },
   "file_extension": ".py",
   "mimetype": "text/x-python",
   "name": "python",
   "nbconvert_exporter": "python",
   "pygments_lexer": "ipython3",
   "version": "3.7.9"
  }
 },
 "nbformat": 4,
 "nbformat_minor": 4
}
